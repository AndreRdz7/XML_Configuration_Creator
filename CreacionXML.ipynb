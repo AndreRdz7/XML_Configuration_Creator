{
 "cells": [
  {
   "cell_type": "code",
   "execution_count": 6,
   "metadata": {},
   "outputs": [],
   "source": [
    "import xml.etree.ElementTree as ET\n",
    "from xml.dom import minidom"
   ]
  },
  {
   "cell_type": "code",
   "execution_count": 7,
   "metadata": {},
   "outputs": [],
   "source": [
    "def prettify(elem):\n",
    "    rough_string = ET.tostring(elem, 'utf-8')\n",
    "    reparsed = minidom.parseString(rough_string)\n",
    "    return reparsed.toprettyxml(indent=\"  \")"
   ]
  },
  {
   "cell_type": "code",
   "execution_count": 9,
   "metadata": {},
   "outputs": [],
   "source": [
    "ns = {\"bsim\": \"http://bsim.hpi.uni-potsdam.de/scylla/simModel\"}\n",
    "\n",
    "ET.register_namespace('bsim', ns[\"bsim\"])\n",
    "root = ET.Element(ET.QName(ns[\"bsim\"], \"globalConfiguration\"))\n",
    "\n",
    "resourceData =  ET.Element(ET.QName(ns[\"bsim\"], \"resourceData\"))\n",
    "root.append(resourceData)\n",
    "# For each role\n",
    "for role in [\"Sachbearbeiter\", \"Manager\"]:\n",
    "    dynamicResource =  ET.Element(ET.QName(ns[\"bsim\"], \"dynamicResource\"))\n",
    "    dynamicResource.set(\"id\", role)\n",
    "    dynamicResource.set(\"defaultQuantity\", \"5\")\n",
    "    resourceData.append(dynamicResource)\n"
   ]
  },
  {
   "cell_type": "code",
   "execution_count": 10,
   "metadata": {},
   "outputs": [
    {
     "name": "stdout",
     "output_type": "stream",
     "text": [
      "<?xml version=\"1.0\" ?>\n",
      "<bsim:globalConfiguration xmlns:bsim=\"http://bsim.hpi.uni-potsdam.de/scylla/simModel\">\n",
      "  <bsim:resourceData>\n",
      "    <bsim:dynamicResource defaultQuantity=\"5\" id=\"Sachbearbeiter\"/>\n",
      "    <bsim:dynamicResource defaultQuantity=\"5\" id=\"Manager\"/>\n",
      "  </bsim:resourceData>\n",
      "</bsim:globalConfiguration>\n",
      "\n"
     ]
    }
   ],
   "source": [
    "print(prettify(root))"
   ]
  },
  {
   "cell_type": "code",
   "execution_count": null,
   "metadata": {},
   "outputs": [],
   "source": []
  }
 ],
 "metadata": {
  "kernelspec": {
   "display_name": "Python 3",
   "language": "python",
   "name": "python3"
  },
  "language_info": {
   "codemirror_mode": {
    "name": "ipython",
    "version": 3
   },
   "file_extension": ".py",
   "mimetype": "text/x-python",
   "name": "python",
   "nbconvert_exporter": "python",
   "pygments_lexer": "ipython3",
   "version": "3.6.10"
  }
 },
 "nbformat": 4,
 "nbformat_minor": 2
}
