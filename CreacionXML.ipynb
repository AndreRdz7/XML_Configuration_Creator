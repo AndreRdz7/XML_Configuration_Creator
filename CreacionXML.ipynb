{
 "cells": [
  {
   "cell_type": "code",
   "execution_count": 1,
   "metadata": {},
   "outputs": [],
   "source": [
    "import xml.etree.ElementTree as ET\n",
    "from xml.dom import minidom"
   ]
  },
  {
   "cell_type": "code",
   "execution_count": 2,
   "metadata": {},
   "outputs": [],
   "source": [
    "def prettify(elem):\n",
    "    rough_string = ET.tostring(elem, 'utf-8')\n",
    "    reparsed = minidom.parseString(rough_string)\n",
    "    return reparsed.toprettyxml(indent=\"  \")"
   ]
  },
  {
   "cell_type": "code",
   "execution_count": 3,
   "metadata": {},
   "outputs": [],
   "source": [
    "# input example\n",
    "data = [[('Friday', '02:00:00-10:00:00'),\n",
    "          ('Monday', '02:00:00-10:00:00'),\n",
    "          ('Thursday', '02:00:00-10:00:00'),\n",
    "          ('Tuesday', '02:00:00-10:00:00'),\n",
    "          ('Wednesday', '02:00:00-10:00:00'),\n",
    "          'Sachbearbeiter_#0'],\n",
    "         [('Friday', '02:00:00-10:00:00'),\n",
    "          ('Monday', '02:00:00-10:00:00'),\n",
    "          ('Thursday', '02:00:00-10:00:00'),\n",
    "          ('Tuesday', '02:00:00-10:00:00'),\n",
    "          ('Wednesday', '02:00:00-10:00:00'),\n",
    "          'Manager_#0']]"
   ]
  },
  {
   "cell_type": "code",
   "execution_count": 4,
   "metadata": {},
   "outputs": [],
   "source": [
    "# Role and schedules extraction\n",
    "roles = []\n",
    "schedules = []\n",
    "for log in data:\n",
    "    roles.append(log[-1])\n",
    "    schedules.append(log[:-1])"
   ]
  },
  {
   "cell_type": "code",
   "execution_count": 5,
   "metadata": {},
   "outputs": [],
   "source": [
    "# namespace, will be update to tec (ITESM) namesapce\n",
    "ns = {\"bsim\": \"http://bsim.hpi.uni-potsdam.de/scylla/simModel\"}\n",
    "\n",
    "ET.register_namespace('bsim', ns[\"bsim\"])\n",
    "root = ET.Element(ET.QName(ns[\"bsim\"], \"globalConfiguration\"))\n",
    "\n",
    "resourceData =  ET.Element(ET.QName(ns[\"bsim\"], \"resourceData\"))\n",
    "timeTables = ET.Element(ET.QName(ns['bsim'], \"timeTables\"))\n",
    "root.append(resourceData)\n",
    "root.append(timeTables)\n",
    "\n",
    "# For each role\n",
    "for index,role in enumerate(roles):\n",
    "    dynamicResource =  ET.Element(ET.QName(ns[\"bsim\"], \"dynamicResource\"))\n",
    "    dynamicResource.set(\"id\", role)\n",
    "    dynamicResource.set(\"defaultTimeUnit\", \"HOURS\")\n",
    "    tt_id = role + '_schedule'\n",
    "    dynamicResource.set(\"defaultTimetableId\", tt_id)\n",
    "    # default quantity will be set to 5 until we get an algorithm to retrive the amount of concurrency on resources\n",
    "    dynamicResource.set(\"defaultQuantity\", \"5\")\n",
    "    resourceData.append(dynamicResource)\n",
    "    current_schedule = schedules[index]\n",
    "    timeTable = ET.Element(ET.QName(ns['bsim'], \"timeTable\"))\n",
    "    timeTables.append(timeTable)\n",
    "    timeTable.set('id', tt_id)\n",
    "    for day in current_schedule:\n",
    "        timeTableItem = ET.Element(ET.QName(ns['bsim'], \"timeTableItem\"))\n",
    "        timeTableItem.set('from',day[0].upper())\n",
    "        timeTableItem.set('to',day[0].upper())\n",
    "        hours = day[1].split('-')\n",
    "        timeTableItem.set('beginTime', hours[0][:6])\n",
    "        timeTableItem.set('endTime', hours[1][:6])\n",
    "        timeTable.append(timeTableItem)"
   ]
  },
  {
   "cell_type": "code",
   "execution_count": 6,
   "metadata": {},
   "outputs": [],
   "source": [
    "file = open('scylla_config.xml','w')\n",
    "file.write(prettify(root))\n",
    "file.close()"
   ]
  }
 ],
 "metadata": {
  "kernelspec": {
   "display_name": "Python 3",
   "language": "python",
   "name": "python3"
  },
  "language_info": {
   "codemirror_mode": {
    "name": "ipython",
    "version": 3
   },
   "file_extension": ".py",
   "mimetype": "text/x-python",
   "name": "python",
   "nbconvert_exporter": "python",
   "pygments_lexer": "ipython3",
   "version": "3.7.4"
  }
 },
 "nbformat": 4,
 "nbformat_minor": 2
}
